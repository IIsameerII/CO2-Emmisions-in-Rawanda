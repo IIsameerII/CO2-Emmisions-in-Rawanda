{
 "cells": [
  {
   "cell_type": "code",
   "execution_count": 1,
   "metadata": {},
   "outputs": [],
   "source": [
    "import pandas as pd\n",
    "import numpy as np \n",
    "import seaborn as sns\n",
    "import matplotlib.pyplot as plt\n",
    "%matplotlib inline"
   ]
  },
  {
   "cell_type": "code",
   "execution_count": 3,
   "metadata": {},
   "outputs": [
    {
     "data": {
      "text/plain": [
       "390972"
      ]
     },
     "execution_count": 3,
     "metadata": {},
     "output_type": "execute_result"
    }
   ],
   "source": [
    "df = pd.read_csv(\"/Users/peter/Downloads/credit_risk.csv\")\n",
    "df.size"
   ]
  },
  {
   "cell_type": "code",
   "execution_count": 4,
   "metadata": {},
   "outputs": [
    {
     "data": {
      "text/html": [
       "<div>\n",
       "<style scoped>\n",
       "    .dataframe tbody tr th:only-of-type {\n",
       "        vertical-align: middle;\n",
       "    }\n",
       "\n",
       "    .dataframe tbody tr th {\n",
       "        vertical-align: top;\n",
       "    }\n",
       "\n",
       "    .dataframe thead th {\n",
       "        text-align: right;\n",
       "    }\n",
       "</style>\n",
       "<table border=\"1\" class=\"dataframe\">\n",
       "  <thead>\n",
       "    <tr style=\"text-align: right;\">\n",
       "      <th></th>\n",
       "      <th>Id</th>\n",
       "      <th>Age</th>\n",
       "      <th>Income</th>\n",
       "      <th>Home</th>\n",
       "      <th>Emp_length</th>\n",
       "      <th>Intent</th>\n",
       "      <th>Amount</th>\n",
       "      <th>Rate</th>\n",
       "      <th>Status</th>\n",
       "      <th>Percent_income</th>\n",
       "      <th>Default</th>\n",
       "      <th>Cred_length</th>\n",
       "    </tr>\n",
       "  </thead>\n",
       "  <tbody>\n",
       "    <tr>\n",
       "      <th>0</th>\n",
       "      <td>0</td>\n",
       "      <td>22</td>\n",
       "      <td>59000</td>\n",
       "      <td>RENT</td>\n",
       "      <td>123.0</td>\n",
       "      <td>PERSONAL</td>\n",
       "      <td>35000</td>\n",
       "      <td>16.02</td>\n",
       "      <td>1</td>\n",
       "      <td>0.59</td>\n",
       "      <td>Y</td>\n",
       "      <td>3</td>\n",
       "    </tr>\n",
       "    <tr>\n",
       "      <th>1</th>\n",
       "      <td>1</td>\n",
       "      <td>21</td>\n",
       "      <td>9600</td>\n",
       "      <td>OWN</td>\n",
       "      <td>5.0</td>\n",
       "      <td>EDUCATION</td>\n",
       "      <td>1000</td>\n",
       "      <td>11.14</td>\n",
       "      <td>0</td>\n",
       "      <td>0.10</td>\n",
       "      <td>N</td>\n",
       "      <td>2</td>\n",
       "    </tr>\n",
       "    <tr>\n",
       "      <th>2</th>\n",
       "      <td>2</td>\n",
       "      <td>25</td>\n",
       "      <td>9600</td>\n",
       "      <td>MORTGAGE</td>\n",
       "      <td>1.0</td>\n",
       "      <td>MEDICAL</td>\n",
       "      <td>5500</td>\n",
       "      <td>12.87</td>\n",
       "      <td>1</td>\n",
       "      <td>0.57</td>\n",
       "      <td>N</td>\n",
       "      <td>3</td>\n",
       "    </tr>\n",
       "    <tr>\n",
       "      <th>3</th>\n",
       "      <td>3</td>\n",
       "      <td>23</td>\n",
       "      <td>65500</td>\n",
       "      <td>RENT</td>\n",
       "      <td>4.0</td>\n",
       "      <td>MEDICAL</td>\n",
       "      <td>35000</td>\n",
       "      <td>15.23</td>\n",
       "      <td>1</td>\n",
       "      <td>0.53</td>\n",
       "      <td>N</td>\n",
       "      <td>2</td>\n",
       "    </tr>\n",
       "    <tr>\n",
       "      <th>4</th>\n",
       "      <td>4</td>\n",
       "      <td>24</td>\n",
       "      <td>54400</td>\n",
       "      <td>RENT</td>\n",
       "      <td>8.0</td>\n",
       "      <td>MEDICAL</td>\n",
       "      <td>35000</td>\n",
       "      <td>14.27</td>\n",
       "      <td>1</td>\n",
       "      <td>0.55</td>\n",
       "      <td>Y</td>\n",
       "      <td>4</td>\n",
       "    </tr>\n",
       "  </tbody>\n",
       "</table>\n",
       "</div>"
      ],
      "text/plain": [
       "   Id  Age  Income      Home  Emp_length     Intent  Amount   Rate  Status  \\\n",
       "0   0   22   59000      RENT       123.0   PERSONAL   35000  16.02       1   \n",
       "1   1   21    9600       OWN         5.0  EDUCATION    1000  11.14       0   \n",
       "2   2   25    9600  MORTGAGE         1.0    MEDICAL    5500  12.87       1   \n",
       "3   3   23   65500      RENT         4.0    MEDICAL   35000  15.23       1   \n",
       "4   4   24   54400      RENT         8.0    MEDICAL   35000  14.27       1   \n",
       "\n",
       "   Percent_income Default  Cred_length  \n",
       "0            0.59       Y            3  \n",
       "1            0.10       N            2  \n",
       "2            0.57       N            3  \n",
       "3            0.53       N            2  \n",
       "4            0.55       Y            4  "
      ]
     },
     "execution_count": 4,
     "metadata": {},
     "output_type": "execute_result"
    }
   ],
   "source": [
    "df.head()"
   ]
  },
  {
   "cell_type": "code",
   "execution_count": 5,
   "metadata": {},
   "outputs": [
    {
     "name": "stdout",
     "output_type": "stream",
     "text": [
      "Collecting Sweetviz\n",
      "  Downloading sweetviz-2.1.4-py3-none-any.whl (15.1 MB)\n",
      "     |████████████████████████████████| 15.1 MB 564 kB/s            \n",
      "\u001b[?25hRequirement already satisfied: tqdm>=4.43.0 in /Users/peter/opt/anaconda3/envs/ML/lib/python3.6/site-packages (from Sweetviz) (4.62.3)\n",
      "Requirement already satisfied: pandas!=1.0.0,!=1.0.1,!=1.0.2,>=0.25.3 in /Users/peter/opt/anaconda3/envs/ML/lib/python3.6/site-packages (from Sweetviz) (1.1.5)\n",
      "Requirement already satisfied: matplotlib>=3.1.3 in /Users/peter/opt/anaconda3/envs/ML/lib/python3.6/site-packages (from Sweetviz) (3.3.4)\n",
      "Requirement already satisfied: scipy>=1.3.2 in /Users/peter/opt/anaconda3/envs/ML/lib/python3.6/site-packages (from Sweetviz) (1.5.4)\n",
      "Collecting importlib-resources>=1.2.0\n",
      "  Using cached importlib_resources-5.4.0-py3-none-any.whl (28 kB)\n",
      "Requirement already satisfied: numpy>=1.16.0 in /Users/peter/opt/anaconda3/envs/ML/lib/python3.6/site-packages (from Sweetviz) (1.19.2)\n",
      "Requirement already satisfied: jinja2>=2.11.1 in /Users/peter/opt/anaconda3/envs/ML/lib/python3.6/site-packages (from Sweetviz) (3.0.2)\n",
      "Collecting zipp>=3.1.0\n",
      "  Downloading zipp-3.6.0-py3-none-any.whl (5.3 kB)\n",
      "Requirement already satisfied: MarkupSafe>=2.0 in /Users/peter/opt/anaconda3/envs/ML/lib/python3.6/site-packages (from jinja2>=2.11.1->Sweetviz) (2.0.1)\n",
      "Requirement already satisfied: pillow>=6.2.0 in /Users/peter/opt/anaconda3/envs/ML/lib/python3.6/site-packages (from matplotlib>=3.1.3->Sweetviz) (8.3.1)\n",
      "Requirement already satisfied: python-dateutil>=2.1 in /Users/peter/opt/anaconda3/envs/ML/lib/python3.6/site-packages (from matplotlib>=3.1.3->Sweetviz) (2.8.2)\n",
      "Requirement already satisfied: cycler>=0.10 in /Users/peter/opt/anaconda3/envs/ML/lib/python3.6/site-packages (from matplotlib>=3.1.3->Sweetviz) (0.11.0)\n",
      "Requirement already satisfied: kiwisolver>=1.0.1 in /Users/peter/opt/anaconda3/envs/ML/lib/python3.6/site-packages (from matplotlib>=3.1.3->Sweetviz) (1.3.1)\n",
      "Requirement already satisfied: pyparsing!=2.0.4,!=2.1.2,!=2.1.6,>=2.0.3 in /Users/peter/opt/anaconda3/envs/ML/lib/python3.6/site-packages (from matplotlib>=3.1.3->Sweetviz) (3.0.4)\n",
      "Requirement already satisfied: pytz>=2017.2 in /Users/peter/opt/anaconda3/envs/ML/lib/python3.6/site-packages (from pandas!=1.0.0,!=1.0.1,!=1.0.2,>=0.25.3->Sweetviz) (2021.3)\n",
      "Requirement already satisfied: six>=1.5 in /Users/peter/opt/anaconda3/envs/ML/lib/python3.6/site-packages (from python-dateutil>=2.1->matplotlib>=3.1.3->Sweetviz) (1.16.0)\n",
      "Installing collected packages: zipp, importlib-resources, Sweetviz\n",
      "Successfully installed Sweetviz-2.1.4 importlib-resources-5.4.0 zipp-3.6.0\n",
      "Note: you may need to restart the kernel to use updated packages.\n"
     ]
    }
   ],
   "source": [
    "pip install Sweetviz"
   ]
  },
  {
   "cell_type": "code",
   "execution_count": 8,
   "metadata": {},
   "outputs": [
    {
     "name": "stderr",
     "output_type": "stream",
     "text": [
      "[Summarizing dataframe]                      |          | [  0%]   00:00 -> (? left)"
     ]
    },
    {
     "name": "stderr",
     "output_type": "stream",
     "text": [
      "Done! Use 'show' commands to display/save.   |██████████| [100%]   00:00 -> (00:00 left)\n"
     ]
    },
    {
     "name": "stdout",
     "output_type": "stream",
     "text": [
      "Report sweetviz_report.html was generated! NOTEBOOK/COLAB USERS: the web browser MAY not pop up, regardless, the report IS saved in your notebook/colab files.\n"
     ]
    }
   ],
   "source": [
    "import sweetviz as sv\n",
    "sweet_report = sv.analyze(df, \"Default\")\n",
    "sweet_report.show_html('sweetviz_report.html')"
   ]
  },
  {
   "cell_type": "markdown",
   "metadata": {},
   "source": [
    "#### NOTE\n",
    " - The Dataset is imbalanced\n",
    " - We will use SMOTE to oversample the minority class.\n",
    " - Since we are using a Random Forest Classifier, there's no need for feature scaling or dimensionality reduction techniques like PCA and LDA because they\n",
    " - For this, we need a balanced dataset with equal number of samples from each class (50% for both classes)\n",
    " # 2. Data Preprocessing and Feature Engineering\n",
    " ## 1. Importing Libraries\n",
    " ```python\n",
    " import numpy as np\n",
    " import pandas as pd\n",
    " import matplotlib.pyplot as plt\n",
    " %matplotlib inline\n",
    " ```\n",
    " ## 2. Loading data into dataframe\n",
    " ```python\n",
    " df = pd.read_csv('data/creditcardfraud.zip')\n",
    " print(df.shape)\n",
    " df.head()\n",
    " ```\n",
    " ## 3. Exploratory Analysis\n",
    " ### Univariate analysis:\n",
    " ```python\n",
    " def plotPerColumnDistribution(df, nGraphShown, nGraphPerRow):\n",
    "    '''Function plots histogram for all input variables'''\n",
    "    # This function takes the dataframe df which has the variable you want to make the distribution on\n",
    "    #     and returns a matrix where each column is a separate distribution \n",
    "    #     global count\n",
    "    #     local count\n",
    "    # Input Variables:\n",
    "    #    df -> Pandas DataFrame\n",
    "    #     nGraphShown-> Number of graphs shown in one figure\n",
    "    #     nGraphPerRow -> No.of graphs per row\n",
    "    #     if isinstance(df, pd.DataFrame)==False : return None\n",
    "    #     elif len(df)<nGraphShown : return None\n",
    "    #     else :\n",
    "    #         print(\"The shape of your dataframe is \",df.shape)\n",
    "    #        fig, axes = plt.subplots(nrows=int((len(df.columns)+1)/nGraphPerRow), figsize=(6\n",
    "    * nGraphPerRow ,8*(len(df.columns)+1)//nGraphPerRow))\n",
    "    #             print(\"No. Of rows are\",axes.size )\n",
    "    #                 global count\n",
    "    #                     local count\n",
    "    #                         i=0\n",
    "    #                             j=0\n",
    "    #                                 while i<axes.size[0] & j <axes.size[1]:\n",
    "    #                                     sns.distplot(df[df.columns[j]], hist=True, axlabel=\"Frequency\"\n",
    "    , kde=False, color='#4CB391', label='Global Count');\n",
    "    #                                         sns.distplot(df[[colName]], hist=True,axlabel=\"Frequency\"\n",
    "    ,kde=False,color='#FFA726' , label='LocalCount');\n",
    "    ```\n",
    "    #### Plotting histograms for all columns\n",
    "    ```python\n",
    "    #     plotPerColumnDistribution(df, 10, 5);\n",
    "    ```\n",
    "    ### Bivariate analysis:\n",
    "    ```python\n",
    "    def createScatterMatrix(df, plotSize, textSize):\n",
    "        #     Function creates scattermatrix for all combinations of features\n",
    "        #         Input Variable:\n",
    "        #            df -> Pandas Dataframe\n",
    "        #                plotSize -> Size of graph (square root of number of features)\n",
    "        #                    textSize -> Text size of labels\n",
    "        #         if isinstance(df,pd.DataFrame)== False or df.empty== True:return None;\n",
    "        #         else:\n",
    "        #             cols = list(df.drop(['Class'],axis=1).columns)\n",
    "        #                 print(\"\\n\\tCreating Scatter Matrix For All Pairs of Features\")\n",
    "        #                     print(\"\\tPlot Size:\",plotSize,\"\\tText Size:\",textSize)\n",
    "        #                         print(\"\\tFeatures:\\n\",cols,\"...\")\n",
    "        #                            for pairIndex in range(0,(math.sqrt(len(cols)))**2-1 ):\n",
    "        #                                    col1 = cols[pairIndex%math.floor(((math.sqrt(len(cols)))))]\n",
    "        #                                        col2 = cols[(pairIndex//math.floor(((math.sqrt(len(cols))))))];\n",
    "        #                                        col2 = cols[(pairIndex+1)%math.floor((((math.sqrt(len(cols)))))*2)-1 ]\n",
    "        #                                        col2 = cols[(pairIndex+1)%math.floor(((math.sqrt(len(cols)))))];\n",
    "        #                                        col2 = cols[(pairIndex+1)%math.floor((((math.sqrt(len(cols)))))];\n",
    "        #                                        col2 = cols[(pairIndex+1)%math.floor((((math.sqrt(len(cols)))))];\n",
    "        #                                        col2 =(cols[(pairIndex+1)%math.floor((((math.sqrt(len(cols)))))])\n",
    "        #                                        col2 = cols[(pairIndex+1)%math.floor((((math.sqrt(len(cols)))))];\n",
    "        ```\n",
    "        \n",
    " \n"
   ]
  },
  {
   "cell_type": "code",
   "execution_count": null,
   "metadata": {},
   "outputs": [],
   "source": []
  }
 ],
 "metadata": {
  "kernelspec": {
   "display_name": "ML",
   "language": "python",
   "name": "python3"
  },
  "language_info": {
   "codemirror_mode": {
    "name": "ipython",
    "version": 3
   },
   "file_extension": ".py",
   "mimetype": "text/x-python",
   "name": "python",
   "nbconvert_exporter": "python",
   "pygments_lexer": "ipython3",
   "version": "3.6.10"
  },
  "orig_nbformat": 4
 },
 "nbformat": 4,
 "nbformat_minor": 2
}
